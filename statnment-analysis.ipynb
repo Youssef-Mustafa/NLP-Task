{
 "cells": [
  {
   "cell_type": "markdown",
   "id": "04f80d58",
   "metadata": {
    "papermill": {
     "duration": 0.005577,
     "end_time": "2025-03-20T23:28:39.237562",
     "exception": false,
     "start_time": "2025-03-20T23:28:39.231985",
     "status": "completed"
    },
    "tags": []
   },
   "source": [
    "# Importing Libraries"
   ]
  },
  {
   "cell_type": "code",
   "execution_count": null,
   "id": "d05c2344",
   "metadata": {
    "_cell_guid": "b1076dfc-b9ad-4769-8c92-a6c4dae69d19",
    "_uuid": "8f2839f25d086af736a60e9eeb907d3b93b6e0e5",
    "execution": {
     "iopub.execute_input": "2025-03-20T23:28:39.250890Z",
     "iopub.status.busy": "2025-03-20T23:28:39.250402Z",
     "iopub.status.idle": "2025-03-20T23:28:50.510258Z",
     "shell.execute_reply": "2025-03-20T23:28:50.508881Z"
    },
    "papermill": {
     "duration": 11.270138,
     "end_time": "2025-03-20T23:28:50.513446",
     "exception": false,
     "start_time": "2025-03-20T23:28:39.243308",
     "status": "completed"
    },
    "tags": []
   },
   "outputs": [
    {
     "name": "stdout",
     "output_type": "stream",
     "text": [
      "/kaggle/input/imdb-dataset-of-50k-movie-reviews/IMDB Dataset.csv\n"
     ]
    }
   ],
   "source": [
    "import numpy as np # linear algebra\n",
    "import pandas as pd # data processing, CSV file I/O (e.g. pd.read_csv)\n",
    "import re\n",
    "import nltk\n",
    "import tensorflow as tf\n",
    "\n",
    "from tqdm import tqdm\n",
    "from nltk.corpus import stopwords\n",
    "from nltk.tokenize import word_tokenize\n",
    "from nltk.stem import WordNetLemmatizer\n",
    "from gensim.models import Word2Vec\n",
    "from sklearn.model_selection import train_test_split\n",
    "from tensorflow.keras.preprocessing.sequence import pad_sequences\n",
    "from tensorflow.keras.layers import Embedding, LSTM, Dense, Dropout, Bidirectional, Input, Attention\n",
    "from tensorflow.keras.models import Model, Sequential\n",
    "\n",
    "import os\n",
    "for dirname, _, filenames in os.walk('/kaggle/input'):\n",
    "    for filename in filenames:\n",
    "        print(os.path.join(dirname, filename))\n"
   ]
  },
  {
   "cell_type": "code",
   "execution_count": 2,
   "id": "02e52f09",
   "metadata": {
    "execution": {
     "iopub.execute_input": "2025-03-20T23:28:50.527996Z",
     "iopub.status.busy": "2025-03-20T23:28:50.527296Z",
     "iopub.status.idle": "2025-03-20T23:28:52.009956Z",
     "shell.execute_reply": "2025-03-20T23:28:52.008800Z"
    },
    "papermill": {
     "duration": 1.492652,
     "end_time": "2025-03-20T23:28:52.012324",
     "exception": false,
     "start_time": "2025-03-20T23:28:50.519672",
     "status": "completed"
    },
    "tags": []
   },
   "outputs": [
    {
     "data": {
      "text/html": [
       "<div>\n",
       "<style scoped>\n",
       "    .dataframe tbody tr th:only-of-type {\n",
       "        vertical-align: middle;\n",
       "    }\n",
       "\n",
       "    .dataframe tbody tr th {\n",
       "        vertical-align: top;\n",
       "    }\n",
       "\n",
       "    .dataframe thead th {\n",
       "        text-align: right;\n",
       "    }\n",
       "</style>\n",
       "<table border=\"1\" class=\"dataframe\">\n",
       "  <thead>\n",
       "    <tr style=\"text-align: right;\">\n",
       "      <th></th>\n",
       "      <th>review</th>\n",
       "      <th>sentiment</th>\n",
       "    </tr>\n",
       "  </thead>\n",
       "  <tbody>\n",
       "    <tr>\n",
       "      <th>0</th>\n",
       "      <td>One of the other reviewers has mentioned that ...</td>\n",
       "      <td>positive</td>\n",
       "    </tr>\n",
       "    <tr>\n",
       "      <th>1</th>\n",
       "      <td>A wonderful little production. &lt;br /&gt;&lt;br /&gt;The...</td>\n",
       "      <td>positive</td>\n",
       "    </tr>\n",
       "    <tr>\n",
       "      <th>2</th>\n",
       "      <td>I thought this was a wonderful way to spend ti...</td>\n",
       "      <td>positive</td>\n",
       "    </tr>\n",
       "    <tr>\n",
       "      <th>3</th>\n",
       "      <td>Basically there's a family where a little boy ...</td>\n",
       "      <td>negative</td>\n",
       "    </tr>\n",
       "    <tr>\n",
       "      <th>4</th>\n",
       "      <td>Petter Mattei's \"Love in the Time of Money\" is...</td>\n",
       "      <td>positive</td>\n",
       "    </tr>\n",
       "  </tbody>\n",
       "</table>\n",
       "</div>"
      ],
      "text/plain": [
       "                                              review sentiment\n",
       "0  One of the other reviewers has mentioned that ...  positive\n",
       "1  A wonderful little production. <br /><br />The...  positive\n",
       "2  I thought this was a wonderful way to spend ti...  positive\n",
       "3  Basically there's a family where a little boy ...  negative\n",
       "4  Petter Mattei's \"Love in the Time of Money\" is...  positive"
      ]
     },
     "execution_count": 2,
     "metadata": {},
     "output_type": "execute_result"
    }
   ],
   "source": [
    "df = pd.read_csv('../input/imdb-dataset-of-50k-movie-reviews/IMDB Dataset.csv')\n",
    "df.head()"
   ]
  },
  {
   "cell_type": "code",
   "execution_count": 3,
   "id": "7fb84201",
   "metadata": {
    "execution": {
     "iopub.execute_input": "2025-03-20T23:28:52.026337Z",
     "iopub.status.busy": "2025-03-20T23:28:52.025959Z",
     "iopub.status.idle": "2025-03-20T23:28:52.059143Z",
     "shell.execute_reply": "2025-03-20T23:28:52.057895Z"
    },
    "papermill": {
     "duration": 0.042908,
     "end_time": "2025-03-20T23:28:52.061518",
     "exception": false,
     "start_time": "2025-03-20T23:28:52.018610",
     "status": "completed"
    },
    "tags": []
   },
   "outputs": [
    {
     "name": "stdout",
     "output_type": "stream",
     "text": [
      "<class 'pandas.core.frame.DataFrame'>\n",
      "RangeIndex: 50000 entries, 0 to 49999\n",
      "Data columns (total 2 columns):\n",
      " #   Column     Non-Null Count  Dtype \n",
      "---  ------     --------------  ----- \n",
      " 0   review     50000 non-null  object\n",
      " 1   sentiment  50000 non-null  object\n",
      "dtypes: object(2)\n",
      "memory usage: 781.4+ KB\n"
     ]
    }
   ],
   "source": [
    "df.info()"
   ]
  },
  {
   "cell_type": "code",
   "execution_count": 4,
   "id": "c76ecd74",
   "metadata": {
    "execution": {
     "iopub.execute_input": "2025-03-20T23:28:52.087958Z",
     "iopub.status.busy": "2025-03-20T23:28:52.087540Z",
     "iopub.status.idle": "2025-03-20T23:28:52.121630Z",
     "shell.execute_reply": "2025-03-20T23:28:52.120491Z"
    },
    "papermill": {
     "duration": 0.044046,
     "end_time": "2025-03-20T23:28:52.124054",
     "exception": false,
     "start_time": "2025-03-20T23:28:52.080008",
     "status": "completed"
    },
    "tags": []
   },
   "outputs": [
    {
     "data": {
      "text/html": [
       "<div>\n",
       "<style scoped>\n",
       "    .dataframe tbody tr th:only-of-type {\n",
       "        vertical-align: middle;\n",
       "    }\n",
       "\n",
       "    .dataframe tbody tr th {\n",
       "        vertical-align: top;\n",
       "    }\n",
       "\n",
       "    .dataframe thead th {\n",
       "        text-align: right;\n",
       "    }\n",
       "</style>\n",
       "<table border=\"1\" class=\"dataframe\">\n",
       "  <thead>\n",
       "    <tr style=\"text-align: right;\">\n",
       "      <th></th>\n",
       "      <th>review</th>\n",
       "      <th>sentiment</th>\n",
       "    </tr>\n",
       "  </thead>\n",
       "  <tbody>\n",
       "    <tr>\n",
       "      <th>0</th>\n",
       "      <td>One of the other reviewers has mentioned that ...</td>\n",
       "      <td>1</td>\n",
       "    </tr>\n",
       "    <tr>\n",
       "      <th>1</th>\n",
       "      <td>A wonderful little production. &lt;br /&gt;&lt;br /&gt;The...</td>\n",
       "      <td>1</td>\n",
       "    </tr>\n",
       "    <tr>\n",
       "      <th>2</th>\n",
       "      <td>I thought this was a wonderful way to spend ti...</td>\n",
       "      <td>1</td>\n",
       "    </tr>\n",
       "    <tr>\n",
       "      <th>3</th>\n",
       "      <td>Basically there's a family where a little boy ...</td>\n",
       "      <td>0</td>\n",
       "    </tr>\n",
       "    <tr>\n",
       "      <th>4</th>\n",
       "      <td>Petter Mattei's \"Love in the Time of Money\" is...</td>\n",
       "      <td>1</td>\n",
       "    </tr>\n",
       "  </tbody>\n",
       "</table>\n",
       "</div>"
      ],
      "text/plain": [
       "                                              review  sentiment\n",
       "0  One of the other reviewers has mentioned that ...          1\n",
       "1  A wonderful little production. <br /><br />The...          1\n",
       "2  I thought this was a wonderful way to spend ti...          1\n",
       "3  Basically there's a family where a little boy ...          0\n",
       "4  Petter Mattei's \"Love in the Time of Money\" is...          1"
      ]
     },
     "execution_count": 4,
     "metadata": {},
     "output_type": "execute_result"
    }
   ],
   "source": [
    "df['sentiment'] = [1 if sentiment == 'positive' else 0 for sentiment in df['sentiment']]\n",
    "df.head()"
   ]
  },
  {
   "cell_type": "markdown",
   "id": "aa49cdbc",
   "metadata": {
    "papermill": {
     "duration": 0.006012,
     "end_time": "2025-03-20T23:28:52.136331",
     "exception": false,
     "start_time": "2025-03-20T23:28:52.130319",
     "status": "completed"
    },
    "tags": []
   },
   "source": [
    "# Initial Data Analysis"
   ]
  },
  {
   "cell_type": "code",
   "execution_count": 5,
   "id": "ce00cc44",
   "metadata": {
    "execution": {
     "iopub.execute_input": "2025-03-20T23:28:52.151300Z",
     "iopub.status.busy": "2025-03-20T23:28:52.150906Z",
     "iopub.status.idle": "2025-03-20T23:28:52.325884Z",
     "shell.execute_reply": "2025-03-20T23:28:52.324714Z"
    },
    "papermill": {
     "duration": 0.18504,
     "end_time": "2025-03-20T23:28:52.328460",
     "exception": false,
     "start_time": "2025-03-20T23:28:52.143420",
     "status": "completed"
    },
    "tags": []
   },
   "outputs": [],
   "source": [
    "import seaborn as sns"
   ]
  },
  {
   "cell_type": "code",
   "execution_count": 6,
   "id": "edadf1af",
   "metadata": {
    "execution": {
     "iopub.execute_input": "2025-03-20T23:28:52.343399Z",
     "iopub.status.busy": "2025-03-20T23:28:52.342969Z",
     "iopub.status.idle": "2025-03-20T23:28:52.539288Z",
     "shell.execute_reply": "2025-03-20T23:28:52.538064Z"
    },
    "papermill": {
     "duration": 0.206766,
     "end_time": "2025-03-20T23:28:52.541693",
     "exception": false,
     "start_time": "2025-03-20T23:28:52.334927",
     "status": "completed"
    },
    "tags": []
   },
   "outputs": [
    {
     "data": {
      "text/plain": [
       "<AxesSubplot:xlabel='sentiment', ylabel='count'>"
      ]
     },
     "execution_count": 6,
     "metadata": {},
     "output_type": "execute_result"
    },
    {
     "data": {
      "image/png": "[encoded data removed]",
      "text/plain": [
       "<Figure size 432x288 with 1 Axes>"
      ]
     },
     "metadata": {
      "needs_background": "light"
     },
     "output_type": "display_data"
    }
   ],
   "source": [
    "sns.countplot(x='sentiment', data=df) "
   ]
  },
  {
   "cell_type": "code",
   "execution_count": 7,
   "id": "42b2200e",
   "metadata": {
    "execution": {
     "iopub.execute_input": "2025-03-20T23:28:52.556723Z",
     "iopub.status.busy": "2025-03-20T23:28:52.556280Z",
     "iopub.status.idle": "2025-03-20T23:28:52.565023Z",
     "shell.execute_reply": "2025-03-20T23:28:52.563944Z"
    },
    "papermill": {
     "duration": 0.018846,
     "end_time": "2025-03-20T23:28:52.567179",
     "exception": false,
     "start_time": "2025-03-20T23:28:52.548333",
     "status": "completed"
    },
    "tags": []
   },
   "outputs": [
    {
     "data": {
      "text/plain": [
       "1    25000\n",
       "0    25000\n",
       "Name: sentiment, dtype: int64"
      ]
     },
     "execution_count": 7,
     "metadata": {},
     "output_type": "execute_result"
    }
   ],
   "source": [
    "df['sentiment'].value_counts()"
   ]
  },
  {
   "cell_type": "markdown",
   "id": "dc7d56dd",
   "metadata": {
    "papermill": {
     "duration": 0.006218,
     "end_time": "2025-03-20T23:28:52.593965",
     "exception": false,
     "start_time": "2025-03-20T23:28:52.587747",
     "status": "completed"
    },
    "tags": []
   },
   "source": [
    "# Text Preprocessing"
   ]
  },
  {
   "cell_type": "code",
   "execution_count": 8,
   "id": "ff250a5a",
   "metadata": {
    "execution": {
     "iopub.execute_input": "2025-03-20T23:28:52.623694Z",
     "iopub.status.busy": "2025-03-20T23:28:52.623239Z",
     "iopub.status.idle": "2025-03-20T23:28:52.633963Z",
     "shell.execute_reply": "2025-03-20T23:28:52.632968Z"
    },
    "papermill": {
     "duration": 0.021075,
     "end_time": "2025-03-20T23:28:52.636236",
     "exception": false,
     "start_time": "2025-03-20T23:28:52.615161",
     "status": "completed"
    },
    "tags": []
   },
   "outputs": [],
   "source": [
    "stop_words = set(stopwords.words('english'))\n",
    "lemmatizer = WordNetLemmatizer()\n",
    "\n",
    "def preprocess_review(review):\n",
    "    review = re.sub(r'[^a-zA-Z]', ' ', review)  \n",
    "    review = review.lower()  \n",
    "    words = word_tokenize(review)\n",
    "    words = [lemmatizer.lemmatize(word) for word in words if word not in stop_words]\n",
    "    return words  # Return as a list for Word2Vec training\n"
   ]
  },
  {
   "cell_type": "code",
   "execution_count": 9,
   "id": "cb83428b",
   "metadata": {
    "execution": {
     "iopub.execute_input": "2025-03-20T23:28:52.651422Z",
     "iopub.status.busy": "2025-03-20T23:28:52.650971Z",
     "iopub.status.idle": "2025-03-20T23:30:12.376544Z",
     "shell.execute_reply": "2025-03-20T23:30:12.375028Z"
    },
    "papermill": {
     "duration": 79.736456,
     "end_time": "2025-03-20T23:30:12.379473",
     "exception": false,
     "start_time": "2025-03-20T23:28:52.643017",
     "status": "completed"
    },
    "tags": []
   },
   "outputs": [
    {
     "name": "stderr",
     "output_type": "stream",
     "text": [
      "100%|██████████| 50000/50000 [01:19<00:00, 627.25it/s]\n"
     ]
    }
   ],
   "source": [
    "tokenized_corpus = [preprocess_review(review) for review in tqdm(df['review'])]"
   ]
  },
  {
   "cell_type": "markdown",
   "id": "d688820d",
   "metadata": {
    "papermill": {
     "duration": 0.042959,
     "end_time": "2025-03-20T23:30:12.466276",
     "exception": false,
     "start_time": "2025-03-20T23:30:12.423317",
     "status": "completed"
    },
    "tags": []
   },
   "source": [
    "# 1. CBOW Model Creation"
   ]
  },
  {
   "cell_type": "code",
   "execution_count": 10,
   "id": "1228f0e4",
   "metadata": {
    "execution": {
     "iopub.execute_input": "2025-03-20T23:30:12.554038Z",
     "iopub.status.busy": "2025-03-20T23:30:12.553625Z",
     "iopub.status.idle": "2025-03-20T23:30:59.890114Z",
     "shell.execute_reply": "2025-03-20T23:30:59.889031Z"
    },
    "papermill": {
     "duration": 47.383897,
     "end_time": "2025-03-20T23:30:59.892959",
     "exception": false,
     "start_time": "2025-03-20T23:30:12.509062",
     "status": "completed"
    },
    "tags": []
   },
   "outputs": [],
   "source": [
    "cbow_model = Word2Vec(\n",
    "    sentences=tokenized_corpus,\n",
    "    vector_size=300,\n",
    "    window=7,\n",
    "    min_count=2,\n",
    "    workers=4,\n",
    "    sg=0  # CBOW\n",
    ")"
   ]
  },
  {
   "cell_type": "code",
   "execution_count": 11,
   "id": "0eb3776d",
   "metadata": {
    "execution": {
     "iopub.execute_input": "2025-03-20T23:30:59.978573Z",
     "iopub.status.busy": "2025-03-20T23:30:59.978151Z",
     "iopub.status.idle": "2025-03-20T23:31:29.377316Z",
     "shell.execute_reply": "2025-03-20T23:31:29.376416Z"
    },
    "papermill": {
     "duration": 29.445156,
     "end_time": "2025-03-20T23:31:29.379919",
     "exception": false,
     "start_time": "2025-03-20T23:30:59.934763",
     "status": "completed"
    },
    "tags": []
   },
   "outputs": [],
   "source": [
    "def get_sentence_vector(sentence, model):\n",
    "    vector_size = model.vector_size\n",
    "    vec = np.zeros(vector_size)\n",
    "    count = 0\n",
    "    \n",
    "    for word in sentence:\n",
    "        if word in model.wv:\n",
    "            vec += model.wv[word]\n",
    "            count += 1\n",
    "    \n",
    "    return vec / count if count > 0 else vec\n",
    "\n",
    "X = np.array([get_sentence_vector(sentence, cbow_model) for sentence in tokenized_corpus])\n",
    "y = df['sentiment'].values"
   ]
  },
  {
   "cell_type": "code",
   "execution_count": 12,
   "id": "b16f686b",
   "metadata": {
    "execution": {
     "iopub.execute_input": "2025-03-20T23:31:29.466278Z",
     "iopub.status.busy": "2025-03-20T23:31:29.465910Z",
     "iopub.status.idle": "2025-03-20T23:31:29.528464Z",
     "shell.execute_reply": "2025-03-20T23:31:29.527460Z"
    },
    "papermill": {
     "duration": 0.108222,
     "end_time": "2025-03-20T23:31:29.531050",
     "exception": false,
     "start_time": "2025-03-20T23:31:29.422828",
     "status": "completed"
    },
    "tags": []
   },
   "outputs": [],
   "source": [
    "X_train, X_test, y_train, y_test = train_test_split(X, y, test_size=0.2, random_state=42)"
   ]
  },
  {
   "cell_type": "code",
   "execution_count": 13,
   "id": "416e861d",
   "metadata": {
    "execution": {
     "iopub.execute_input": "2025-03-20T23:31:29.616329Z",
     "iopub.status.busy": "2025-03-20T23:31:29.615485Z",
     "iopub.status.idle": "2025-03-20T23:31:29.622560Z",
     "shell.execute_reply": "2025-03-20T23:31:29.621272Z"
    },
    "papermill": {
     "duration": 0.0523,
     "end_time": "2025-03-20T23:31:29.625052",
     "exception": false,
     "start_time": "2025-03-20T23:31:29.572752",
     "status": "completed"
    },
    "tags": []
   },
   "outputs": [
    {
     "data": {
      "text/plain": [
       "(40000, 300)"
      ]
     },
     "execution_count": 13,
     "metadata": {},
     "output_type": "execute_result"
    }
   ],
   "source": [
    "X_train.shape"
   ]
  },
  {
   "cell_type": "code",
   "execution_count": 14,
   "id": "225f310a",
   "metadata": {
    "execution": {
     "iopub.execute_input": "2025-03-20T23:31:29.712037Z",
     "iopub.status.busy": "2025-03-20T23:31:29.711601Z",
     "iopub.status.idle": "2025-03-20T23:31:29.718606Z",
     "shell.execute_reply": "2025-03-20T23:31:29.717453Z"
    },
    "papermill": {
     "duration": 0.053151,
     "end_time": "2025-03-20T23:31:29.721047",
     "exception": false,
     "start_time": "2025-03-20T23:31:29.667896",
     "status": "completed"
    },
    "tags": []
   },
   "outputs": [
    {
     "data": {
      "text/plain": [
       "(40000,)"
      ]
     },
     "execution_count": 14,
     "metadata": {},
     "output_type": "execute_result"
    }
   ],
   "source": [
    "y_train.shape"
   ]
  },
  {
   "cell_type": "markdown",
   "id": "1f96616a",
   "metadata": {
    "papermill": {
     "duration": 0.04246,
     "end_time": "2025-03-20T23:31:29.806679",
     "exception": false,
     "start_time": "2025-03-20T23:31:29.764219",
     "status": "completed"
    },
    "tags": []
   },
   "source": [
    "# 2. LSTM & Attention"
   ]
  },
  {
   "cell_type": "code",
   "execution_count": 15,
   "id": "03541a62",
   "metadata": {
    "execution": {
     "iopub.execute_input": "2025-03-20T23:31:29.893102Z",
     "iopub.status.busy": "2025-03-20T23:31:29.892698Z",
     "iopub.status.idle": "2025-03-20T23:31:30.630318Z",
     "shell.execute_reply": "2025-03-20T23:31:30.629123Z"
    },
    "papermill": {
     "duration": 0.78334,
     "end_time": "2025-03-20T23:31:30.632924",
     "exception": false,
     "start_time": "2025-03-20T23:31:29.849584",
     "status": "completed"
    },
    "tags": []
   },
   "outputs": [
    {
     "name": "stdout",
     "output_type": "stream",
     "text": [
      "Model: \"model\"\n",
      "__________________________________________________________________________________________________\n",
      "Layer (type)                    Output Shape         Param #     Connected to                     \n",
      "==================================================================================================\n",
      "input_1 (InputLayer)            [(None, 300)]        0                                            \n",
      "__________________________________________________________________________________________________\n",
      "reshape (Reshape)               (None, 300, 1)       0           input_1[0][0]                    \n",
      "__________________________________________________________________________________________________\n",
      "bidirectional (Bidirectional)   (None, 300, 256)     133120      reshape[0][0]                    \n",
      "__________________________________________________________________________________________________\n",
      "attention (Attention)           (None, 300, 256)     0           bidirectional[0][0]              \n",
      "                                                                 bidirectional[0][0]              \n",
      "__________________________________________________________________________________________________\n",
      "dropout (Dropout)               (None, 300, 256)     0           attention[0][0]                  \n",
      "__________________________________________________________________________________________________\n",
      "flatten (Flatten)               (None, 76800)        0           dropout[0][0]                    \n",
      "__________________________________________________________________________________________________\n",
      "dense (Dense)                   (None, 1)            76801       flatten[0][0]                    \n",
      "==================================================================================================\n",
      "Total params: 209,921\n",
      "Trainable params: 209,921\n",
      "Non-trainable params: 0\n",
      "__________________________________________________________________________________________________\n"
     ]
    }
   ],
   "source": [
    "from tensorflow.keras.layers import Reshape\n",
    "\n",
    "def attention_layer(inputs):\n",
    "    query, value = inputs, inputs\n",
    "    attention = Attention()([query, value])\n",
    "    return attention\n",
    "\n",
    "input_layer = Input(shape=(300,))\n",
    "reshaped_input = Reshape((300, 1))(input_layer)  # Fix input shape for LSTM\n",
    "\n",
    "lstm = Bidirectional(LSTM(128, return_sequences=True))(reshaped_input)\n",
    "attn = attention_layer(lstm)\n",
    "dropout = Dropout(0.4)(attn)\n",
    "flatten = tf.keras.layers.Flatten()(dropout)  # Ensure output shape matches Dense layer\n",
    "output_layer = Dense(1, activation='sigmoid')(flatten)\n",
    "\n",
    "model = Model(inputs=input_layer, outputs=output_layer)\n",
    "\n",
    "model.compile(optimizer=tf.keras.optimizers.Adam(learning_rate=0.0005),\n",
    "              loss='binary_crossentropy', metrics=['accuracy'])\n",
    "\n",
    "model.summary()\n"
   ]
  },
  {
   "cell_type": "code",
   "execution_count": 16,
   "id": "d2f5a2ad",
   "metadata": {
    "execution": {
     "iopub.execute_input": "2025-03-20T23:31:30.720741Z",
     "iopub.status.busy": "2025-03-20T23:31:30.720319Z",
     "iopub.status.idle": "2025-03-21T00:59:21.567047Z",
     "shell.execute_reply": "2025-03-21T00:59:21.565640Z"
    },
    "papermill": {
     "duration": 5271.326034,
     "end_time": "2025-03-21T00:59:22.002646",
     "exception": false,
     "start_time": "2025-03-20T23:31:30.676612",
     "status": "completed"
    },
    "tags": []
   },
   "outputs": [
    {
     "name": "stdout",
     "output_type": "stream",
     "text": [
      "Epoch 1/15\n",
      "500/500 [==============================] - 353s 701ms/step - loss: 0.6909 - accuracy: 0.5135 - val_loss: 0.5635 - val_accuracy: 0.7276\n",
      "Epoch 2/15\n",
      "500/500 [==============================] - 353s 707ms/step - loss: 0.4750 - accuracy: 0.7820 - val_loss: 0.4229 - val_accuracy: 0.8150\n",
      "Epoch 3/15\n",
      "500/500 [==============================] - 351s 702ms/step - loss: 0.4084 - accuracy: 0.8227 - val_loss: 0.3756 - val_accuracy: 0.8376\n",
      "Epoch 4/15\n",
      "500/500 [==============================] - 348s 696ms/step - loss: 0.3838 - accuracy: 0.8329 - val_loss: 0.3654 - val_accuracy: 0.8455\n",
      "Epoch 5/15\n",
      "500/500 [==============================] - 348s 697ms/step - loss: 0.3651 - accuracy: 0.8459 - val_loss: 0.3508 - val_accuracy: 0.8518\n",
      "Epoch 6/15\n",
      "500/500 [==============================] - 350s 699ms/step - loss: 0.3637 - accuracy: 0.8476 - val_loss: 0.3334 - val_accuracy: 0.8593\n",
      "Epoch 7/15\n",
      "500/500 [==============================] - 350s 701ms/step - loss: 0.3477 - accuracy: 0.8557 - val_loss: 0.3380 - val_accuracy: 0.8541\n",
      "Epoch 8/15\n",
      "500/500 [==============================] - 348s 696ms/step - loss: 0.3428 - accuracy: 0.8544 - val_loss: 0.3216 - val_accuracy: 0.8655\n",
      "Epoch 9/15\n",
      "500/500 [==============================] - 348s 695ms/step - loss: 0.3373 - accuracy: 0.8568 - val_loss: 0.3298 - val_accuracy: 0.8576\n",
      "Epoch 10/15\n",
      "500/500 [==============================] - 351s 702ms/step - loss: 0.3345 - accuracy: 0.8588 - val_loss: 0.3167 - val_accuracy: 0.8668\n",
      "Epoch 11/15\n",
      "500/500 [==============================] - 353s 705ms/step - loss: 0.3330 - accuracy: 0.8586 - val_loss: 0.3276 - val_accuracy: 0.8619\n",
      "Epoch 12/15\n",
      "500/500 [==============================] - 353s 706ms/step - loss: 0.3312 - accuracy: 0.8588 - val_loss: 0.3228 - val_accuracy: 0.8610\n",
      "Epoch 13/15\n",
      "500/500 [==============================] - 352s 704ms/step - loss: 0.3271 - accuracy: 0.8612 - val_loss: 0.3161 - val_accuracy: 0.8659\n",
      "Epoch 14/15\n",
      "500/500 [==============================] - 354s 707ms/step - loss: 0.3253 - accuracy: 0.8622 - val_loss: 0.3247 - val_accuracy: 0.8646\n",
      "Epoch 15/15\n",
      "500/500 [==============================] - 357s 714ms/step - loss: 0.3234 - accuracy: 0.8642 - val_loss: 0.3120 - val_accuracy: 0.8683\n"
     ]
    },
    {
     "data": {
      "text/plain": [
       "<keras.callbacks.History at 0x79546b908290>"
      ]
     },
     "execution_count": 16,
     "metadata": {},
     "output_type": "execute_result"
    }
   ],
   "source": [
    "model.fit(X_train, y_train, epochs=15, batch_size=64, validation_split=0.2)"
   ]
  },
  {
   "cell_type": "code",
   "execution_count": 17,
   "id": "cc353764",
   "metadata": {
    "execution": {
     "iopub.execute_input": "2025-03-21T00:59:22.970248Z",
     "iopub.status.busy": "2025-03-21T00:59:22.969842Z",
     "iopub.status.idle": "2025-03-21T01:00:08.513206Z",
     "shell.execute_reply": "2025-03-21T01:00:08.511508Z"
    },
    "papermill": {
     "duration": 45.983639,
     "end_time": "2025-03-21T01:00:08.516717",
     "exception": false,
     "start_time": "2025-03-21T00:59:22.533078",
     "status": "completed"
    },
    "tags": []
   },
   "outputs": [
    {
     "name": "stdout",
     "output_type": "stream",
     "text": [
      "313/313 [==============================] - 45s 143ms/step - loss: 0.3175 - accuracy: 0.8634\n",
      "Test Accuracy: 0.8634\n"
     ]
    }
   ],
   "source": [
    "loss, accuracy = model.evaluate(X_test, y_test)\n",
    "print(f\"Test Accuracy: {accuracy:.4f}\")"
   ]
  },
  {
   "cell_type": "code",
   "execution_count": 18,
   "id": "9762a21b",
   "metadata": {
    "execution": {
     "iopub.execute_input": "2025-03-21T01:00:09.498304Z",
     "iopub.status.busy": "2025-03-21T01:00:09.497714Z",
     "iopub.status.idle": "2025-03-21T01:00:09.550450Z",
     "shell.execute_reply": "2025-03-21T01:00:09.549006Z"
    },
    "papermill": {
     "duration": 0.584444,
     "end_time": "2025-03-21T01:00:09.553034",
     "exception": false,
     "start_time": "2025-03-21T01:00:08.968590",
     "status": "completed"
    },
    "tags": []
   },
   "outputs": [
    {
     "name": "stdout",
     "output_type": "stream",
     "text": [
      "Model saved successfully!\n"
     ]
    }
   ],
   "source": [
    "# Save trained model\n",
    "def save_model(model, filename=\"sentiment_model.h5\"):\n",
    "    model.save(filename)\n",
    "    print(\"Model saved successfully!\")\n",
    "\n",
    "save_model(model)"
   ]
  },
  {
   "cell_type": "code",
   "execution_count": 19,
   "id": "774b7e14",
   "metadata": {
    "execution": {
     "iopub.execute_input": "2025-03-21T01:00:10.465926Z",
     "iopub.status.busy": "2025-03-21T01:00:10.465507Z",
     "iopub.status.idle": "2025-03-21T01:00:11.002283Z",
     "shell.execute_reply": "2025-03-21T01:00:11.000744Z"
    },
    "papermill": {
     "duration": 1.004371,
     "end_time": "2025-03-21T01:00:11.005309",
     "exception": false,
     "start_time": "2025-03-21T01:00:10.000938",
     "status": "completed"
    },
    "tags": []
   },
   "outputs": [],
   "source": [
    "# Load model for future predictions\n",
    "def load_model(filename=\"sentiment_model.h5\"):\n",
    "    return tf.keras.models.load_model(filename)\n",
    "\n",
    "# Load model when needed\n",
    "model = load_model()"
   ]
  },
  {
   "cell_type": "code",
   "execution_count": 20,
   "id": "8e27ec1a",
   "metadata": {
    "execution": {
     "iopub.execute_input": "2025-03-21T01:00:11.977899Z",
     "iopub.status.busy": "2025-03-21T01:00:11.977491Z",
     "iopub.status.idle": "2025-03-21T01:00:11.985591Z",
     "shell.execute_reply": "2025-03-21T01:00:11.984091Z"
    },
    "papermill": {
     "duration": 0.525845,
     "end_time": "2025-03-21T01:00:11.988244",
     "exception": false,
     "start_time": "2025-03-21T01:00:11.462399",
     "status": "completed"
    },
    "tags": []
   },
   "outputs": [],
   "source": [
    "def predict_sentiment(review, model, vectorizer):\n",
    "    processed_review = preprocess_review(review)\n",
    "    review_vector = np.array([get_sentence_vector(processed_review, vectorizer)])\n",
    "    \n",
    "    prediction = model.predict(review_vector)\n",
    "    sentiment = \"Positive\" if prediction[0] > 0.5 else \"Negative\"\n",
    "\n",
    "    print(f\"Review: {review}\")\n",
    "    print(f\"Processed Review: {processed_review}\")\n",
    "    print(f\"Predicted Sentiment: {sentiment}\\n\")"
   ]
  },
  {
   "cell_type": "code",
   "execution_count": 21,
   "id": "65495efd",
   "metadata": {
    "execution": {
     "iopub.execute_input": "2025-03-21T01:00:12.955429Z",
     "iopub.status.busy": "2025-03-21T01:00:12.954983Z",
     "iopub.status.idle": "2025-03-21T01:00:14.806974Z",
     "shell.execute_reply": "2025-03-21T01:00:14.805083Z"
    },
    "papermill": {
     "duration": 2.368736,
     "end_time": "2025-03-21T01:00:14.810626",
     "exception": false,
     "start_time": "2025-03-21T01:00:12.441890",
     "status": "completed"
    },
    "tags": []
   },
   "outputs": [
    {
     "name": "stdout",
     "output_type": "stream",
     "text": [
      "Review: I hate this movie so much!\n",
      "Processed Review: ['hate', 'movie', 'much']\n",
      "Predicted Sentiment: Negative\n",
      "\n",
      "Review: This film was absolutely fantastic!\n",
      "Processed Review: ['film', 'absolutely', 'fantastic']\n",
      "Predicted Sentiment: Positive\n",
      "\n",
      "Review: One of the best movies I've ever seen!\n",
      "Processed Review: ['one', 'best', 'movie', 'ever', 'seen']\n",
      "Predicted Sentiment: Positive\n",
      "\n",
      "Review: Waste of time, terrible plot and acting.\n",
      "Processed Review: ['waste', 'time', 'terrible', 'plot', 'acting']\n",
      "Predicted Sentiment: Negative\n",
      "\n",
      "Review: film is bad\n",
      "Processed Review: ['film', 'bad']\n",
      "Predicted Sentiment: Negative\n",
      "\n",
      "Review: film is helpfull\n",
      "Processed Review: ['film', 'helpfull']\n",
      "Predicted Sentiment: Positive\n",
      "\n",
      "Review: film is useless\n",
      "Processed Review: ['film', 'useless']\n",
      "Predicted Sentiment: Negative\n",
      "\n",
      "Review: film is good\n",
      "Processed Review: ['film', 'good']\n",
      "Predicted Sentiment: Positive\n",
      "\n",
      "Review: film is bad\n",
      "Processed Review: ['film', 'bad']\n",
      "Predicted Sentiment: Negative\n",
      "\n"
     ]
    }
   ],
   "source": [
    "# Example reviews for sentiment prediction\n",
    "reviews = [\n",
    "    \"I hate this movie so much!\", \n",
    "    \"This film was absolutely fantastic!\",  \n",
    "    \"One of the best movies I've ever seen!\",\n",
    "    \"Waste of time, terrible plot and acting.\",\n",
    "    \"film is bad\",\n",
    "    \"film is helpfull\",\n",
    "    \"film is useless\",\n",
    "    \"film is good\",\n",
    "    \"film is bad\",\n",
    "]\n",
    "\n",
    "# Predict sentiment for multiple reviews\n",
    "for review in reviews:\n",
    "    predict_sentiment(review, model, cbow_model)"
   ]
  }
 ],
 "metadata": {
  "kaggle": {
   "accelerator": "none",
   "dataSources": [
    {
     "datasetId": 134715,
     "sourceId": 320111,
     "sourceType": "datasetVersion"
    }
   ],
   "dockerImageVersionId": 30203,
   "isGpuEnabled": false,
   "isInternetEnabled": false,
   "language": "python",
   "sourceType": "notebook"
  },
  "kernelspec": {
   "display_name": "Python 3",
   "language": "python",
   "name": "python3"
  },
  "language_info": {
   "codemirror_mode": {
    "name": "ipython",
    "version": 3
   },
   "file_extension": ".py",
   "mimetype": "text/x-python",
   "name": "python",
   "nbconvert_exporter": "python",
   "pygments_lexer": "ipython3",
   "version": "3.7.12"
  },
  "papermill": {
   "default_parameters": {},
   "duration": 5508.094235,
   "end_time": "2025-03-21T01:00:18.004778",
   "environment_variables": {},
   "exception": null,
   "input_path": "__notebook__.ipynb",
   "output_path": "__notebook__.ipynb",
   "parameters": {},
   "start_time": "2025-03-20T23:28:29.910543",
   "version": "2.3.4"
  }
 },
 "nbformat": 4,
 "nbformat_minor": 5
}
